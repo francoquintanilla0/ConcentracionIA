{
  "nbformat": 4,
  "nbformat_minor": 0,
  "metadata": {
    "colab": {
      "name": "Clase_GitHub.ipynb",
      "provenance": [],
      "authorship_tag": "ABX9TyMyZYcTyjCktCCYwikeSSWx",
      "include_colab_link": true
    },
    "kernelspec": {
      "name": "python3",
      "display_name": "Python 3"
    },
    "language_info": {
      "name": "python"
    }
  },
  "cells": [
    {
      "cell_type": "markdown",
      "metadata": {
        "id": "view-in-github",
        "colab_type": "text"
      },
      "source": [
        "<a href=\"https://colab.research.google.com/github/francoquintanilla0/ConcentracionIA/blob/main/Clase_GitHub.ipynb\" target=\"_parent\"><img src=\"https://colab.research.google.com/assets/colab-badge.svg\" alt=\"Open In Colab\"/></a>"
      ]
    },
    {
      "cell_type": "code",
      "execution_count": 1,
      "metadata": {
        "id": "oAPSmarLKK5L",
        "outputId": "093232e1-bb87-4425-8c44-768158388d70",
        "colab": {
          "base_uri": "https://localhost:8080/"
        }
      },
      "outputs": [
        {
          "output_type": "stream",
          "name": "stdout",
          "text": [
            "hello\n",
            "Franco\n"
          ]
        }
      ],
      "source": [
        "print('hello')\n",
        "print('Franco')"
      ]
    }
  ]
}