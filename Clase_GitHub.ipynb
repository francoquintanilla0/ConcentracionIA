{
  "nbformat": 4,
  "nbformat_minor": 0,
  "metadata": {
    "colab": {
      "name": "Clase_GitHub.ipynb",
      "provenance": [],
      "authorship_tag": "ABX9TyPJJZV69G6K5O0o70s7Fvbm",
      "include_colab_link": true
    },
    "kernelspec": {
      "name": "python3",
      "display_name": "Python 3"
    },
    "language_info": {
      "name": "python"
    }
  },
  "cells": [
    {
      "cell_type": "markdown",
      "metadata": {
        "id": "view-in-github",
        "colab_type": "text"
      },
      "source": [
        "<a href=\"https://colab.research.google.com/github/francoquintanilla0/ConcentracionIA/blob/Testing_Branch_Franco/Clase_GitHub.ipynb\" target=\"_parent\"><img src=\"https://colab.research.google.com/assets/colab-badge.svg\" alt=\"Open In Colab\"/></a>"
      ]
    },
    {
      "cell_type": "code",
      "execution_count": null,
      "metadata": {
        "id": "oAPSmarLKK5L",
        "outputId": "093232e1-bb87-4425-8c44-768158388d70",
        "colab": {
          "base_uri": "https://localhost:8080/"
        }
      },
      "outputs": [
        {
          "output_type": "stream",
          "name": "stdout",
          "text": [
            "hello\n",
            "Franco\n"
          ]
        }
      ],
      "source": [
        "print('hello')\n",
        "print('Franco')"
      ]
    },
    {
      "cell_type": "code",
      "source": [
        "print('Estoy modificando el branch 1')"
      ],
      "metadata": {
        "id": "OXT5ORvxNVIh",
        "outputId": "c38db32b-5d64-427d-aebd-7192e56d3f76",
        "colab": {
          "base_uri": "https://localhost:8080/"
        }
      },
      "execution_count": 2,
      "outputs": [
        {
          "output_type": "stream",
          "name": "stdout",
          "text": [
            "Estoy modificando el branch 1\n"
          ]
        }
      ]
    }
  ]
}